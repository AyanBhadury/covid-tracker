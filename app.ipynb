{
 "cells": [
  {
   "cell_type": "code",
   "execution_count": 1,
   "metadata": {},
   "outputs": [
    {
     "output_type": "stream",
     "name": "stdout",
     "text": [
      "Collecting plotly\n",
      "  Using cached plotly-4.14.1-py2.py3-none-any.whl (13.2 MB)\n",
      "Collecting pandas\n",
      "    ERROR: Command errored out with exit status 1:\n",
      "     command: 'C:\\Python38\\python.exe' -u -c 'import sys, setuptools, tokenize; sys.argv[0] = '\"'\"'C:\\\\Users\\\\ayan.bhadury\\\\AppData\\\\Local\\\\Temp\\\\pip-install-5q6ppe91\\\\retrying\\\\setup.py'\"'\"'; __file__='\"'\"'C:\\\\Users\\\\ayan.bhadury\\\\AppData\\\\Local\\\\Temp\\\\pip-install-5q6ppe91\\\\retrying\\\\setup.py'\"'\"';f=getattr(tokenize, '\"'\"'open'\"'\"', open)(__file__);code=f.read().replace('\"'\"'\\r\\n'\"'\"', '\"'\"'\\n'\"'\"');f.close();exec(compile(code, __file__, '\"'\"'exec'\"'\"'))' install --record 'C:\\Users\\ayan.bhadury\\AppData\\Local\\Temp\\pip-record-gdnozl3i\\install-record.txt' --single-version-externally-managed --compile --install-headers 'C:\\Python38\\Include\\retrying'\n",
      "         cwd: C:\\Users\\ayan.bhadury\\AppData\\Local\\Temp\\pip-install-5q6ppe91\\retrying\\\n",
      "    Complete output (9 lines):\n",
      "    running install\n",
      "    running build\n",
      "    running build_py\n",
      "    creating build\n",
      "    creating build\\lib\n",
      "    copying retrying.py -> build\\lib\n",
      "    running install_lib\n",
      "    byte-compiling C:\\Python38\\Lib\\site-packages\\retrying.py to retrying.cpython-38.pyc\n",
      "    error: [Errno 13] Permission denied: 'C:\\\\Python38\\\\Lib\\\\site-packages\\\\__pycache__\\\\retrying.cpython-38.pyc.2115419415856'\n",
      "    ----------------------------------------\n",
      "ERROR: Command errored out with exit status 1: 'C:\\Python38\\python.exe' -u -c 'import sys, setuptools, tokenize; sys.argv[0] = '\"'\"'C:\\\\Users\\\\ayan.bhadury\\\\AppData\\\\Local\\\\Temp\\\\pip-install-5q6ppe91\\\\retrying\\\\setup.py'\"'\"'; __file__='\"'\"'C:\\\\Users\\\\ayan.bhadury\\\\AppData\\\\Local\\\\Temp\\\\pip-install-5q6ppe91\\\\retrying\\\\setup.py'\"'\"';f=getattr(tokenize, '\"'\"'open'\"'\"', open)(__file__);code=f.read().replace('\"'\"'\\r\\n'\"'\"', '\"'\"'\\n'\"'\"');f.close();exec(compile(code, __file__, '\"'\"'exec'\"'\"'))' install --record 'C:\\Users\\ayan.bhadury\\AppData\\Local\\Temp\\pip-record-gdnozl3i\\install-record.txt' --single-version-externally-managed --compile --install-headers 'C:\\Python38\\Include\\retrying' Check the logs for full command output.\n",
      "WARNING: You are using pip version 20.1.1; however, version 20.3.3 is available.\n",
      "You should consider upgrading via the 'C:\\Python38\\python.exe -m pip install --upgrade pip' command.\n",
      "  Using cached pandas-1.1.5-cp38-cp38-win_amd64.whl (9.0 MB)\n",
      "Collecting numpy==1.19.3\n",
      "  Using cached numpy-1.19.3-cp38-cp38-win_amd64.whl (13.3 MB)\n",
      "Collecting ipython==7.16.1\n",
      "  Using cached ipython-7.16.1-py3-none-any.whl (785 kB)\n",
      "Collecting psutil\n",
      "  Using cached psutil-5.8.0-cp38-cp38-win_amd64.whl (245 kB)\n",
      "Collecting dash_bootstrap_components\n",
      "  Using cached dash_bootstrap_components-0.11.1-py2.py3-none-any.whl (187 kB)\n",
      "Collecting gunicorn\n",
      "  Using cached gunicorn-20.0.4-py2.py3-none-any.whl (77 kB)\n",
      "Collecting retrying>=1.3.3\n",
      "  Using cached retrying-1.3.3.tar.gz (10 kB)\n",
      "Requirement already satisfied: six in c:\\users\\ayan.bhadury\\appdata\\roaming\\python\\python38\\site-packages (from plotly) (1.15.0)\n",
      "Requirement already satisfied: python-dateutil>=2.7.3 in c:\\users\\ayan.bhadury\\appdata\\roaming\\python\\python38\\site-packages (from pandas) (2.8.1)\n",
      "Collecting pytz>=2017.2\n",
      "  Using cached pytz-2020.4-py2.py3-none-any.whl (509 kB)\n",
      "Requirement already satisfied: backcall in c:\\users\\ayan.bhadury\\appdata\\roaming\\python\\python38\\site-packages (from ipython==7.16.1) (0.2.0)\n",
      "Requirement already satisfied: setuptools>=18.5 in c:\\python38\\lib\\site-packages (from ipython==7.16.1) (47.1.0)\n",
      "Requirement already satisfied: pygments in c:\\users\\ayan.bhadury\\appdata\\roaming\\python\\python38\\site-packages (from ipython==7.16.1) (2.7.3)\n",
      "Requirement already satisfied: jedi>=0.10 in c:\\users\\ayan.bhadury\\appdata\\roaming\\python\\python38\\site-packages (from ipython==7.16.1) (0.17.2)\n",
      "Requirement already satisfied: decorator in c:\\users\\ayan.bhadury\\appdata\\roaming\\python\\python38\\site-packages (from ipython==7.16.1) (4.4.2)\n",
      "Requirement already satisfied: prompt-toolkit!=3.0.0,!=3.0.1,<3.1.0,>=2.0.0 in c:\\users\\ayan.bhadury\\appdata\\roaming\\python\\python38\\site-packages (from ipython==7.16.1) (3.0.8)\n",
      "Requirement already satisfied: pickleshare in c:\\users\\ayan.bhadury\\appdata\\roaming\\python\\python38\\site-packages (from ipython==7.16.1) (0.7.5)\n",
      "Requirement already satisfied: traitlets>=4.2 in c:\\python38\\lib\\site-packages (from ipython==7.16.1) (5.0.5)\n",
      "Requirement already satisfied: colorama; sys_platform == \"win32\" in c:\\users\\ayan.bhadury\\appdata\\roaming\\python\\python38\\site-packages (from ipython==7.16.1) (0.4.3)\n",
      "Collecting dash>=1.9.0\n",
      "  Using cached dash-1.18.1.tar.gz (74 kB)\n",
      "Requirement already satisfied: parso<0.8.0,>=0.7.0 in c:\\users\\ayan.bhadury\\appdata\\roaming\\python\\python38\\site-packages (from jedi>=0.10->ipython==7.16.1) (0.7.1)\n",
      "Requirement already satisfied: wcwidth in c:\\users\\ayan.bhadury\\appdata\\roaming\\python\\python38\\site-packages (from prompt-toolkit!=3.0.0,!=3.0.1,<3.1.0,>=2.0.0->ipython==7.16.1) (0.2.5)\n",
      "Requirement already satisfied: ipython-genutils in c:\\python38\\lib\\site-packages (from traitlets>=4.2->ipython==7.16.1) (0.2.0)\n",
      "Collecting Flask>=1.0.4\n",
      "  Using cached Flask-1.1.2-py2.py3-none-any.whl (94 kB)\n",
      "Collecting flask-compress\n",
      "  Using cached Flask_Compress-1.8.0-py3-none-any.whl (7.2 kB)\n",
      "Collecting dash_renderer==1.8.3\n",
      "  Using cached dash_renderer-1.8.3.tar.gz (1.0 MB)\n",
      "Collecting dash-core-components==1.14.1\n",
      "  Using cached dash_core_components-1.14.1.tar.gz (3.5 MB)\n",
      "Collecting dash-html-components==1.1.1\n",
      "  Using cached dash_html_components-1.1.1.tar.gz (188 kB)\n",
      "Collecting dash-table==4.11.1\n",
      "  Using cached dash_table-4.11.1.tar.gz (1.8 MB)\n",
      "Collecting future\n",
      "  Using cached future-0.18.2.tar.gz (829 kB)\n",
      "Collecting click>=5.1\n",
      "  Using cached click-7.1.2-py2.py3-none-any.whl (82 kB)\n",
      "Collecting itsdangerous>=0.24\n",
      "  Using cached itsdangerous-1.1.0-py2.py3-none-any.whl (16 kB)\n",
      "Collecting Werkzeug>=0.15\n",
      "  Using cached Werkzeug-1.0.1-py2.py3-none-any.whl (298 kB)\n",
      "Requirement already satisfied: Jinja2>=2.10.1 in c:\\python38\\lib\\site-packages (from Flask>=1.0.4->dash>=1.9.0->dash_bootstrap_components) (2.11.2)\n",
      "Collecting brotli\n",
      "  Using cached Brotli-1.0.9-cp38-cp38-win_amd64.whl (365 kB)\n",
      "Requirement already satisfied: MarkupSafe>=0.23 in c:\\python38\\lib\\site-packages (from Jinja2>=2.10.1->Flask>=1.0.4->dash>=1.9.0->dash_bootstrap_components) (1.1.1)\n",
      "Using legacy setup.py install for retrying, since package 'wheel' is not installed.\n",
      "Using legacy setup.py install for dash, since package 'wheel' is not installed.\n",
      "Using legacy setup.py install for dash-renderer, since package 'wheel' is not installed.\n",
      "Using legacy setup.py install for dash-core-components, since package 'wheel' is not installed.\n",
      "Using legacy setup.py install for dash-html-components, since package 'wheel' is not installed.\n",
      "Using legacy setup.py install for dash-table, since package 'wheel' is not installed.\n",
      "Using legacy setup.py install for future, since package 'wheel' is not installed.\n",
      "Installing collected packages: retrying, plotly, pytz, numpy, pandas, ipython, psutil, click, itsdangerous, Werkzeug, Flask, brotli, flask-compress, dash-renderer, dash-core-components, dash-html-components, dash-table, future, dash, dash-bootstrap-components, gunicorn\n",
      "    Running setup.py install for retrying: started\n",
      "    Running setup.py install for retrying: finished with status 'error'\n"
     ]
    }
   ],
   "source": [
    "import sys\n",
    "!{sys.executable} -m pip install plotly pandas numpy==1.19.3 ipython==7.16.1 psutil dash_bootstrap_components gunicorn"
   ]
  },
  {
   "cell_type": "code",
   "execution_count": 2,
   "metadata": {},
   "outputs": [
    {
     "output_type": "error",
     "ename": "ModuleNotFoundError",
     "evalue": "No module named 'pandas'",
     "traceback": [
      "\u001b[1;31m---------------------------------------------------------------------------\u001b[0m",
      "\u001b[1;31mModuleNotFoundError\u001b[0m                       Traceback (most recent call last)",
      "\u001b[1;32m<ipython-input-2-d50b30d2f64a>\u001b[0m in \u001b[0;36m<module>\u001b[1;34m\u001b[0m\n\u001b[1;32m----> 1\u001b[1;33m \u001b[1;32mimport\u001b[0m \u001b[0mpandas\u001b[0m \u001b[1;32mas\u001b[0m \u001b[0mpd\u001b[0m\u001b[1;33m\u001b[0m\u001b[1;33m\u001b[0m\u001b[0m\n\u001b[0m\u001b[0;32m      2\u001b[0m \u001b[0mpd\u001b[0m\u001b[1;33m.\u001b[0m\u001b[0mset_option\u001b[0m\u001b[1;33m(\u001b[0m\u001b[1;34m'max_rows'\u001b[0m\u001b[1;33m,\u001b[0m\u001b[1;36m20\u001b[0m\u001b[1;33m)\u001b[0m\u001b[1;33m\u001b[0m\u001b[1;33m\u001b[0m\u001b[0m\n\u001b[0;32m      3\u001b[0m \u001b[1;32mimport\u001b[0m \u001b[0mplotly\u001b[0m\u001b[1;33m.\u001b[0m\u001b[0mexpress\u001b[0m \u001b[1;32mas\u001b[0m \u001b[0mpx\u001b[0m\u001b[1;33m\u001b[0m\u001b[1;33m\u001b[0m\u001b[0m\n\u001b[0;32m      4\u001b[0m \u001b[1;32mimport\u001b[0m \u001b[0mplotly\u001b[0m\u001b[1;33m.\u001b[0m\u001b[0mio\u001b[0m \u001b[1;32mas\u001b[0m \u001b[0mpio\u001b[0m\u001b[1;33m\u001b[0m\u001b[1;33m\u001b[0m\u001b[0m\n\u001b[0;32m      5\u001b[0m \u001b[0mpio\u001b[0m\u001b[1;33m.\u001b[0m\u001b[0mrenderers\u001b[0m\u001b[1;33m.\u001b[0m\u001b[0mdefault\u001b[0m \u001b[1;33m=\u001b[0m \u001b[1;34m\"browser\"\u001b[0m\u001b[1;33m\u001b[0m\u001b[1;33m\u001b[0m\u001b[0m\n",
      "\u001b[1;31mModuleNotFoundError\u001b[0m: No module named 'pandas'"
     ]
    }
   ],
   "source": [
    "import pandas as pd\n",
    "pd.set_option('max_rows',20)\n",
    "import plotly.express as px\n",
    "import plotly.io as pio\n",
    "pio.renderers.default = \"browser\""
   ]
  },
  {
   "cell_type": "code",
   "execution_count": null,
   "metadata": {},
   "outputs": [],
   "source": [
    "import dash\n",
    "from dash.dependencies import Input, Output\n",
    "import dash_core_components as dcc\n",
    "import dash_html_components as html\n",
    "import dash_bootstrap_components as dbc"
   ]
  },
  {
   "cell_type": "code",
   "execution_count": null,
   "metadata": {},
   "outputs": [],
   "source": [
    "CONF_URL = 'https://raw.githubusercontent.com/CSSEGISandData/COVID-19/master/csse_covid_19_data/csse_covid_19_time_series/time_series_covid19_confirmed_global.csv'\n",
    "DEAD_URL = 'https://raw.githubusercontent.com/CSSEGISandData/COVID-19/master/csse_covid_19_data/csse_covid_19_time_series/time_series_covid19_deaths_global.csv'\n",
    "RECV_URL = 'https://raw.githubusercontent.com/CSSEGISandData/COVID-19/master/csse_covid_19_data/csse_covid_19_time_series/time_series_covid19_recovered_global.csv'"
   ]
  },
  {
   "cell_type": "code",
   "execution_count": null,
   "metadata": {},
   "outputs": [],
   "source": [
    "covid_conf_ts = pd.read_csv(CONF_URL)\n",
    "covid_dead_ts = pd.read_csv(DEAD_URL)\n",
    "covid_recv_ts = pd.read_csv(RECV_URL)"
   ]
  },
  {
   "cell_type": "code",
   "execution_count": null,
   "metadata": {},
   "outputs": [],
   "source": [
    "#get data in cleaned time series format for country\n",
    "def process_data(data,cntry='Canada',window=3):\n",
    "    conf_ts = data\n",
    "    conf_ts_cntry = conf_ts[conf_ts['Country/Region']==cntry]\n",
    "    final_dataset = conf_ts_cntry.T[4:].sum(axis='columns').diff().rolling(window=window).mean()[40:]\n",
    "    df = pd.DataFrame(final_dataset,columns=['Total'])\n",
    "    return df"
   ]
  },
  {
   "cell_type": "code",
   "execution_count": null,
   "metadata": {},
   "outputs": [],
   "source": [
    "def get_overall_total(df):\n",
    "    return df.iloc[:,-1].sum()\n",
    "\n",
    "conf_overall_total = get_overall_total(covid_conf_ts)\n",
    "dead_overall_total = get_overall_total(covid_dead_ts)\n",
    "recv_overall_total = get_overall_total(covid_recv_ts)\n",
    "active_cntry_total = conf_overall_total - recv_overall_total - dead_overall_total\n",
    "print('Overall Confirmed:',conf_overall_total)\n",
    "print('Overall Dead:',dead_overall_total)\n",
    "print('Overall Recovered:',recv_overall_total)\n",
    "print('Overall Active:',active_cntry_total)"
   ]
  },
  {
   "cell_type": "code",
   "execution_count": 8,
   "metadata": {},
   "outputs": [
    {
     "name": "stdout",
     "output_type": "stream",
     "text": [
      "Canada Confirmed: 511748\n",
      "Canada Dead: 14245\n",
      "Canada Recovered: 422175\n",
      "Canada Recovered: 75328\n"
     ]
    }
   ],
   "source": [
    "def get_cntry_total(df,cntry='Canada'):\n",
    "    return df[df['Country/Region']==cntry].iloc[:,-1].sum()\n",
    "\n",
    "cntry = 'Canada'\n",
    "conf_cntry_total = get_cntry_total(covid_conf_ts,cntry)\n",
    "dead_cntry_total = get_cntry_total(covid_dead_ts,cntry)\n",
    "recv_cntry_total = get_cntry_total(covid_recv_ts,cntry)\n",
    "active_cntry_total = conf_cntry_total - recv_cntry_total - dead_cntry_total\n",
    "print(f'{cntry} Confirmed:',conf_cntry_total)\n",
    "print(f'{cntry} Dead:',dead_cntry_total)\n",
    "print(f'{cntry} Recovered:',recv_cntry_total)\n",
    "print(f'{cntry} Recovered:',active_cntry_total)"
   ]
  },
  {
   "cell_type": "code",
   "execution_count": null,
   "metadata": {},
   "outputs": [],
   "source": [
    "def doughnut_fig(cntry='Canada', window=3):\n",
    "        conf_cntry_total = get_cntry_total(covid_conf_ts, cntry)\n",
    "        dead_cntry_total = get_cntry_total(covid_dead_ts, cntry)\n",
    "        recv_cntry_total = get_cntry_total(covid_recv_ts, cntry)\n",
    "        active_cntry_total =  conf_cntry_total - recv_cntry_total - dead_cntry_total\n",
    "        \n",
    "        df = pd.DataFrame(data=[active_cntry_total, dead_cntry_total, recv_cntry_total],\n",
    "                        index=['Active', 'Dead', 'Recovered'],\n",
    "                        columns=['Total'])\n",
    "\n",
    "        fig= px.pie(df, values='Total',\n",
    "           names=df.index,\n",
    "           labels=['Confirmed', 'Dead', 'Recovered'],\n",
    "           hole=.6,\n",
    "           title='Overall Situation at '+ format(\n",
    "               cntry)+' : '+format(conf_cntry_total),\n",
    "           color=df.index, color_discrete_map={'Active': 'indianred',\n",
    "                                               'Recovered': 'mediumseagreen',\n",
    "                                               'Dead': 'black'})\n",
    "\n",
    "\n",
    "        fig.update_traces(textposition='outside', textinfo='percent',\n",
    "                  textfont_size=20, showlegend=True,\n",
    "                  insidetextorientation='horizontal')\n",
    "        \n",
    "        fig.update_layout(title_x=0.5,\n",
    "                        legend=dict(\n",
    "                        orientation=\"h\",\n",
    "                        yanchor=\"bottom\",\n",
    "                        y= -0.3,\n",
    "                        xanchor=\"center\",\n",
    "                        x=0.5\n",
    "                    ))\n",
    "        return fig"
   ]
  },
  {
   "cell_type": "code",
   "execution_count": 10,
   "metadata": {},
   "outputs": [],
   "source": [
    "def fig_world_trend(cntry='Canada',window=3):\n",
    "    df = process_data(data=covid_conf_ts,cntry=cntry,window=window)\n",
    "    df.head(10)\n",
    "    if window==1:\n",
    "        yaxis_title = \"Daily Cases\"\n",
    "    else:\n",
    "        yaxis_title = \"Daily Cases ({}-day MA)\".format(window)\n",
    "    fig = px.line(df, y='Total', x=df.index, title='Daily confirmed cases trend for {}'.format(cntry),color_discrete_sequence =['#FFC34D'])\n",
    "    fig.update_layout(title_x=0.5,xaxis_title=\" \",plot_bgcolor='#ffffff', yaxis_title=yaxis_title)\n",
    "    return fig"
   ]
  },
  {
   "cell_type": "code",
   "execution_count": 11,
   "metadata": {},
   "outputs": [],
   "source": [
    "external_stylesheets = [dbc.themes.BOOTSTRAP]"
   ]
  },
  {
   "cell_type": "code",
   "execution_count": 12,
   "metadata": {},
   "outputs": [],
   "source": [
    "app = dash.Dash(__name__, external_stylesheets=external_stylesheets)\n",
    "app.title = 'Covid-19 Tracker'\n",
    "server=app.server"
   ]
  },
  {
   "cell_type": "code",
   "execution_count": 13,
   "metadata": {},
   "outputs": [],
   "source": [
    "\n",
    "def get_country_list():\n",
    "    return covid_conf_ts['Country/Region'].unique()\n",
    "\n",
    "def create_dropdown_list(cntry_list):\n",
    "    dropdown_list = []\n",
    "    for cntry in sorted(cntry_list):\n",
    "        tmp_dict = {'label':cntry,'value':cntry}\n",
    "        dropdown_list.append(tmp_dict)\n",
    "    return dropdown_list\n",
    "\n",
    "def get_country_dropdown(id):\n",
    "\n",
    "    return  dbc.Form(\n",
    "    [\n",
    "        dbc.FormGroup(\n",
    "            [\n",
    "                dbc.Label(\"Select a country\", className=\"mr-2\",style={'color':'#ffffff'}),\n",
    "                 dcc.Dropdown(id='my-id'+str(id),\n",
    "                            options=create_dropdown_list(get_country_list()),\n",
    "                            value='Canada',\n",
    "                            clearable=False,\n",
    "                            style={'width':'170px'}\n",
    "                        ),\n",
    "            ],\n",
    "            className=\"mr-3\",\n",
    "        ),\n",
    "        html.Div(id='my-div'+str(id))\n",
    "    ],\n",
    "         inline=True\n",
    "    )"
   ]
  },
  {
   "cell_type": "code",
   "execution_count": 14,
   "metadata": {},
   "outputs": [],
   "source": [
    "def graph1():\n",
    "    return dcc.Graph(id='graph1',figure=fig_world_trend('Canada'))"
   ]
  },
  {
   "cell_type": "code",
   "execution_count": 15,
   "metadata": {},
   "outputs": [],
   "source": [
    "def graph2():\n",
    "    return dcc.Graph(id='graph2',figure=doughnut_fig('Canada'))"
   ]
  },
  {
   "cell_type": "code",
   "execution_count": 16,
   "metadata": {},
   "outputs": [],
   "source": [
    "def get_slider():\n",
    "    return html.Div([  \n",
    "                        dcc.Slider(\n",
    "                            id='my-slider',\n",
    "                            min=1,\n",
    "                            max=15,\n",
    "                            step=None,\n",
    "                            marks={\n",
    "                                1: '1',\n",
    "                                3: '3',\n",
    "                                5: '5',\n",
    "                                7: '1-Week',\n",
    "                                14: 'Fortnight'\n",
    "                            },\n",
    "                            value=3,\n",
    "                        ),\n",
    "                        html.Div([html.Label('Select Moving Average Window')],id='my-div'+str(id),style={'textAlign':'center'})\n",
    "                    ])"
   ]
  },
  {
   "cell_type": "code",
   "execution_count": 17,
   "metadata": {},
   "outputs": [],
   "source": [
    "def generate_layout():\n",
    "    layout = dbc.Container(\n",
    "        [\n",
    "\n",
    "                    dbc.Row(\n",
    "                        [\n",
    "                            dbc.Col(html.H3(\"Covid Tracker\"), width=4,\n",
    "                                    style={'color': '#ffffff',\"height\": \"100%\"}),\n",
    "                            dbc.Col(get_country_dropdown(\n",
    "                                id=1), width={'size': 4},style={'height':'100%'})\n",
    "\n",
    "                        ],\n",
    "                        justify=\"between\",\n",
    "                        style={'border': '2px solid black',\n",
    "                       'background-color': '#2a3f54'},\n",
    "                        className=\"h-20\",\n",
    "\n",
    "                    ),\n",
    "            dbc.Row(\n",
    "            [\n",
    "                dbc.Col(html.Div('Worldwide Confirmed Cases: ' + str(conf_overall_total)), width=6, lg=3, \n",
    "                        style={\"height\": \"100%\",'border-right':'1px solid','border-bottom':'1px solid','background':'#FFC34D'}),\n",
    "                 dbc.Col(html.Div(\n",
    "                     'Worldwide Active Cases: ' + str(active_cntry_total)), width=6, lg=3, \n",
    "                         style=\n",
    "                         {\"height\": \"100%\",'border-right':'1px solid','border-bottom':'1px solid','background':'#C46060'\n",
    "                         }),\n",
    "                dbc.Col(html.Div('Worldwide Recovered Cases: ' + str(recv_overall_total)), width=6, lg=3, \n",
    "                       style={\"height\": \"100%\",'border-right':'1px solid','border-bottom':'1px solid','background':'#8CC466'}),\n",
    "                dbc.Col(html.Div('Worldwide Death Cases: ' + str(dead_overall_total)), width=6, lg=3,\n",
    "                        style={\"height\": \"100%\",'border-bottom':'1px solid','background':'#A9ADC4'}),\n",
    "            ],\n",
    "                style={'margin-left':0,'text-align':'center'},\n",
    "                 className=\"h-30\",\n",
    "            ),\n",
    "            dbc.Row(\n",
    "                [\n",
    "                   \n",
    "                   dbc.Col(graph2(),width=4,style={'border-right':'1px solid black'}), \n",
    "                   dbc.Col([graph1(),\n",
    "                            dbc.Col(get_slider())\n",
    "                           ],width=8),\n",
    "                ],\n",
    "                justify=\"between\",\n",
    "                style={'margin-left':0},\n",
    "                className=\"h-30\",\n",
    "            ),\n",
    "            dbc.Row([\n",
    "                dbc.Col(\n",
    "                    html.P(\"Visualization by Plotly\"),\n",
    "                     style={'margin-left':0,'background':'#DCDCDC',\"height\": \"100%\",'text-align':'end','padding-right':'35px','padding-top':'15px'}\n",
    "                )],\n",
    "                   \n",
    "                    className=\"h-20\"\n",
    "            ),\n",
    "            \n",
    "        ], fluid=True, style={'padding':'0','margin':'0','height':'100vh','overflow':'hidden'}\n",
    "    )\n",
    "    return layout\n"
   ]
  },
  {
   "cell_type": "code",
   "execution_count": 18,
   "metadata": {},
   "outputs": [],
   "source": [
    "app.layout = generate_layout()"
   ]
  },
  {
   "cell_type": "code",
   "execution_count": 19,
   "metadata": {},
   "outputs": [],
   "source": [
    "@app.callback(\n",
    "    [Output(component_id='graph1',component_property='figure'), #line chart\n",
    "    Output(component_id='graph2',component_property='figure')], #doughnut chart\n",
    "    [Input(component_id='my-id1',component_property='value'), #dropdown\n",
    "     Input(component_id='my-slider',component_property='value')] #slider\n",
    ")\n",
    "def update_output_div(input_value1,input_value2):\n",
    "    return fig_world_trend(input_value1,input_value2),doughnut_fig(input_value1)\n",
    "#     return fig_world_trend(input_value1,input_value2)"
   ]
  },
  {
   "cell_type": "code",
   "execution_count": 20,
   "metadata": {},
   "outputs": [],
   "source": [
    "app.run_server(host= '0.0.0.0',debug=False)"
   ]
  }
 ],
 "metadata": {
  "kernelspec": {
   "name": "python3",
   "display_name": "Python 3.8.5 64-bit",
   "metadata": {
    "interpreter": {
     "hash": "2db524e06e9f5f4ffedc911c917cb75e12dbc923643829bf417064a77eb14d37"
    }
   }
  },
  "language_info": {
   "codemirror_mode": {
    "name": "ipython",
    "version": 3
   },
   "file_extension": ".py",
   "mimetype": "text/x-python",
   "name": "python",
   "nbconvert_exporter": "python",
   "pygments_lexer": "ipython3",
   "version": "3.8.5-final"
  }
 },
 "nbformat": 4,
 "nbformat_minor": 4
}