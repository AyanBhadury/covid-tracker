{
 "cells": [
  {
   "cell_type": "code",
   "execution_count": 1,
   "metadata": {},
   "outputs": [
    {
     "name": "stdout",
     "output_type": "stream",
     "text": [
      "Requirement already satisfied: plotly in c:\\users\\ayan.bhadury\\documents\\python-projects\\lib\\site-packages (4.14.1)\n",
      "Requirement already satisfied: pandas in c:\\users\\ayan.bhadury\\documents\\python-projects\\lib\\site-packages (1.1.5)\n",
      "Requirement already satisfied: numpy==1.19.3 in c:\\users\\ayan.bhadury\\documents\\python-projects\\lib\\site-packages (1.19.3)\n",
      "Requirement already satisfied: ipython==7.16.1 in c:\\users\\ayan.bhadury\\documents\\python-projects\\lib\\site-packages (7.16.1)\n",
      "Requirement already satisfied: psutil in c:\\users\\ayan.bhadury\\documents\\python-projects\\lib\\site-packages (5.7.3)\n",
      "Requirement already satisfied: dash_bootstrap_components in c:\\users\\ayan.bhadury\\documents\\python-projects\\lib\\site-packages (0.11.1)\n",
      "Requirement already satisfied: gunicorn in c:\\users\\ayan.bhadury\\documents\\python-projects\\lib\\site-packages (20.0.4)\n",
      "Requirement already satisfied: traitlets>=4.2 in c:\\python38\\lib\\site-packages (from ipython==7.16.1) (5.0.5)\n",
      "Requirement already satisfied: jedi>=0.10 in c:\\users\\ayan.bhadury\\documents\\python-projects\\lib\\site-packages (from ipython==7.16.1) (0.17.2)\n",
      "Requirement already satisfied: decorator in c:\\users\\ayan.bhadury\\documents\\python-projects\\lib\\site-packages (from ipython==7.16.1) (4.4.2)\n",
      "Requirement already satisfied: setuptools>=18.5 in c:\\users\\ayan.bhadury\\documents\\python-projects\\lib\\site-packages (from ipython==7.16.1) (47.1.0)\n",
      "Requirement already satisfied: pygments in c:\\users\\ayan.bhadury\\documents\\python-projects\\lib\\site-packages (from ipython==7.16.1) (2.7.3)\n",
      "Requirement already satisfied: colorama in c:\\users\\ayan.bhadury\\appdata\\roaming\\python\\python38\\site-packages (from ipython==7.16.1) (0.4.3)\n",
      "Requirement already satisfied: backcall in c:\\users\\ayan.bhadury\\documents\\python-projects\\lib\\site-packages (from ipython==7.16.1) (0.2.0)\n",
      "Requirement already satisfied: prompt-toolkit!=3.0.0,!=3.0.1,<3.1.0,>=2.0.0 in c:\\users\\ayan.bhadury\\documents\\python-projects\\lib\\site-packages (from ipython==7.16.1) (3.0.8)\n",
      "Requirement already satisfied: pickleshare in c:\\users\\ayan.bhadury\\documents\\python-projects\\lib\\site-packages (from ipython==7.16.1) (0.7.5)\n",
      "Requirement already satisfied: parso<0.8.0,>=0.7.0 in c:\\users\\ayan.bhadury\\documents\\python-projects\\lib\\site-packages (from jedi>=0.10->ipython==7.16.1) (0.7.1)\n",
      "Requirement already satisfied: wcwidth in c:\\users\\ayan.bhadury\\documents\\python-projects\\lib\\site-packages (from prompt-toolkit!=3.0.0,!=3.0.1,<3.1.0,>=2.0.0->ipython==7.16.1) (0.2.5)\n",
      "Requirement already satisfied: ipython-genutils in c:\\python38\\lib\\site-packages (from traitlets>=4.2->ipython==7.16.1) (0.2.0)\n",
      "Requirement already satisfied: dash>=1.9.0 in c:\\users\\ayan.bhadury\\documents\\python-projects\\lib\\site-packages (from dash_bootstrap_components) (1.18.1)\n",
      "Requirement already satisfied: Flask>=1.0.4 in c:\\users\\ayan.bhadury\\documents\\python-projects\\lib\\site-packages (from dash>=1.9.0->dash_bootstrap_components) (1.1.2)\n",
      "Requirement already satisfied: flask-compress in c:\\users\\ayan.bhadury\\documents\\python-projects\\lib\\site-packages (from dash>=1.9.0->dash_bootstrap_components) (1.8.0)\n",
      "Requirement already satisfied: dash_renderer==1.8.3 in c:\\users\\ayan.bhadury\\documents\\python-projects\\lib\\site-packages (from dash>=1.9.0->dash_bootstrap_components) (1.8.3)\n",
      "Requirement already satisfied: dash-core-components==1.14.1 in c:\\users\\ayan.bhadury\\documents\\python-projects\\lib\\site-packages (from dash>=1.9.0->dash_bootstrap_components) (1.14.1)\n",
      "Requirement already satisfied: dash-html-components==1.1.1 in c:\\users\\ayan.bhadury\\documents\\python-projects\\lib\\site-packages (from dash>=1.9.0->dash_bootstrap_components) (1.1.1)\n",
      "Requirement already satisfied: dash-table==4.11.1 in c:\\users\\ayan.bhadury\\documents\\python-projects\\lib\\site-packages (from dash>=1.9.0->dash_bootstrap_components) (4.11.1)\n",
      "Requirement already satisfied: future in c:\\users\\ayan.bhadury\\documents\\python-projects\\lib\\site-packages (from dash>=1.9.0->dash_bootstrap_components) (0.18.2)\n",
      "Requirement already satisfied: Jinja2>=2.10.1 in c:\\python38\\lib\\site-packages (from Flask>=1.0.4->dash>=1.9.0->dash_bootstrap_components) (2.11.2)\n",
      "Requirement already satisfied: click>=5.1 in c:\\users\\ayan.bhadury\\documents\\python-projects\\lib\\site-packages (from Flask>=1.0.4->dash>=1.9.0->dash_bootstrap_components) (7.1.2)\n",
      "Requirement already satisfied: itsdangerous>=0.24 in c:\\users\\ayan.bhadury\\documents\\python-projects\\lib\\site-packages (from Flask>=1.0.4->dash>=1.9.0->dash_bootstrap_components) (1.1.0)\n",
      "Requirement already satisfied: Werkzeug>=0.15 in c:\\users\\ayan.bhadury\\documents\\python-projects\\lib\\site-packages (from Flask>=1.0.4->dash>=1.9.0->dash_bootstrap_components) (1.0.1)\n",
      "Requirement already satisfied: MarkupSafe>=0.23 in c:\\python38\\lib\\site-packages (from Jinja2>=2.10.1->Flask>=1.0.4->dash>=1.9.0->dash_bootstrap_components) (1.1.1)\n",
      "Requirement already satisfied: python-dateutil>=2.7.3 in c:\\users\\ayan.bhadury\\documents\\python-projects\\lib\\site-packages (from pandas) (2.8.1)\n",
      "Requirement already satisfied: pytz>=2017.2 in c:\\users\\ayan.bhadury\\documents\\python-projects\\lib\\site-packages (from pandas) (2020.4)\n",
      "Requirement already satisfied: six>=1.5 in c:\\users\\ayan.bhadury\\appdata\\roaming\\python\\python38\\site-packages (from python-dateutil>=2.7.3->pandas) (1.15.0)\n",
      "Requirement already satisfied: retrying>=1.3.3 in c:\\users\\ayan.bhadury\\documents\\python-projects\\lib\\site-packages (from plotly) (1.3.3)\n",
      "Requirement already satisfied: brotli in c:\\users\\ayan.bhadury\\documents\\python-projects\\lib\\site-packages (from flask-compress->dash>=1.9.0->dash_bootstrap_components) (1.0.9)\n"
     ]
    }
   ],
   "source": [
    "import sys\n",
    "!{sys.executable} -m pip install plotly pandas numpy==1.19.3 ipython==7.16.1 psutil dash_bootstrap_components gunicorn"
   ]
  },
  {
   "cell_type": "code",
   "execution_count": 2,
   "metadata": {},
   "outputs": [],
   "source": [
    "import pandas as pd\n",
    "pd.set_option('max_rows',20)\n",
    "import plotly.express as px\n",
    "import plotly.io as pio\n",
    "pio.renderers.default = \"browser\""
   ]
  },
  {
   "cell_type": "code",
   "execution_count": 3,
   "metadata": {},
   "outputs": [],
   "source": [
    "import dash\n",
    "from dash.dependencies import Input, Output\n",
    "import dash_core_components as dcc\n",
    "import dash_html_components as html\n",
    "import dash_bootstrap_components as dbc"
   ]
  },
  {
   "cell_type": "code",
   "execution_count": 4,
   "metadata": {},
   "outputs": [],
   "source": [
    "CONF_URL = 'https://raw.githubusercontent.com/CSSEGISandData/COVID-19/master/csse_covid_19_data/csse_covid_19_time_series/time_series_covid19_confirmed_global.csv'\n",
    "DEAD_URL = 'https://raw.githubusercontent.com/CSSEGISandData/COVID-19/master/csse_covid_19_data/csse_covid_19_time_series/time_series_covid19_deaths_global.csv'\n",
    "RECV_URL = 'https://raw.githubusercontent.com/CSSEGISandData/COVID-19/master/csse_covid_19_data/csse_covid_19_time_series/time_series_covid19_recovered_global.csv'"
   ]
  },
  {
   "cell_type": "code",
   "execution_count": 5,
   "metadata": {},
   "outputs": [],
   "source": [
    "covid_conf_ts = pd.read_csv(CONF_URL)\n",
    "covid_dead_ts = pd.read_csv(DEAD_URL)\n",
    "covid_recv_ts = pd.read_csv(RECV_URL)"
   ]
  },
  {
   "cell_type": "code",
   "execution_count": 6,
   "metadata": {},
   "outputs": [],
   "source": [
    "#get data in cleaned time series format for country\n",
    "def process_data(data,cntry='Canada',window=3):\n",
    "    conf_ts = data\n",
    "    conf_ts_cntry = conf_ts[conf_ts['Country/Region']==cntry]\n",
    "    final_dataset = conf_ts_cntry.T[4:].sum(axis='columns').diff().rolling(window=window).mean()[40:]\n",
    "    df = pd.DataFrame(final_dataset,columns=['Total'])\n",
    "    return df"
   ]
  },
  {
   "cell_type": "code",
   "execution_count": 7,
   "metadata": {},
   "outputs": [
    {
     "name": "stdout",
     "output_type": "stream",
     "text": [
      "Overall Confirmed: 80783674\n",
      "Overall Dead: 1764863\n",
      "Overall Recovered: 45698074\n",
      "Overall Active: 33320737\n"
     ]
    }
   ],
   "source": [
    "def get_overall_total(df):\n",
    "    return df.iloc[:,-1].sum()\n",
    "\n",
    "conf_overall_total = get_overall_total(covid_conf_ts)\n",
    "dead_overall_total = get_overall_total(covid_dead_ts)\n",
    "recv_overall_total = get_overall_total(covid_recv_ts)\n",
    "active_cntry_total = conf_overall_total - recv_overall_total - dead_overall_total\n",
    "print('Overall Confirmed:',conf_overall_total)\n",
    "print('Overall Dead:',dead_overall_total)\n",
    "print('Overall Recovered:',recv_overall_total)\n",
    "print('Overall Active:',active_cntry_total)"
   ]
  },
  {
   "cell_type": "code",
   "execution_count": 8,
   "metadata": {},
   "outputs": [
    {
     "name": "stdout",
     "output_type": "stream",
     "text": [
      "Canada Confirmed: 550582\n",
      "Canada Dead: 14929\n",
      "Canada Recovered: 461134\n",
      "Canada Recovered: 74519\n"
     ]
    }
   ],
   "source": [
    "def get_cntry_total(df,cntry='Canada'):\n",
    "    return df[df['Country/Region']==cntry].iloc[:,-1].sum()\n",
    "\n",
    "cntry = 'Canada'\n",
    "conf_cntry_total = get_cntry_total(covid_conf_ts,cntry)\n",
    "dead_cntry_total = get_cntry_total(covid_dead_ts,cntry)\n",
    "recv_cntry_total = get_cntry_total(covid_recv_ts,cntry)\n",
    "active_cntry_total = conf_cntry_total - recv_cntry_total - dead_cntry_total\n",
    "print(f'{cntry} Confirmed:',conf_cntry_total)\n",
    "print(f'{cntry} Dead:',dead_cntry_total)\n",
    "print(f'{cntry} Recovered:',recv_cntry_total)\n",
    "print(f'{cntry} Recovered:',active_cntry_total)"
   ]
  },
  {
   "cell_type": "code",
   "execution_count": 9,
   "metadata": {},
   "outputs": [],
   "source": [
    "def doughnut_fig(cntry='Canada', window=3):\n",
    "        conf_cntry_total = get_cntry_total(covid_conf_ts, cntry)\n",
    "        dead_cntry_total = get_cntry_total(covid_dead_ts, cntry)\n",
    "        recv_cntry_total = get_cntry_total(covid_recv_ts, cntry)\n",
    "        active_cntry_total =  conf_cntry_total - recv_cntry_total - dead_cntry_total\n",
    "        \n",
    "        df = pd.DataFrame(data=[active_cntry_total, dead_cntry_total, recv_cntry_total],\n",
    "                        index=['Active', 'Dead', 'Recovered'],\n",
    "                        columns=['Total'])\n",
    "\n",
    "        fig= px.pie(df, values='Total',\n",
    "           names=df.index,\n",
    "           labels=['Confirmed', 'Dead', 'Recovered'],\n",
    "           hole=.6,\n",
    "           title='Overall Situation at '+ format(\n",
    "               cntry)+' : '+format(conf_cntry_total),\n",
    "           color=df.index, color_discrete_map={'Active': 'indianred',\n",
    "                                               'Recovered': 'mediumseagreen',\n",
    "                                               'Dead': 'black'})\n",
    "\n",
    "\n",
    "        fig.update_traces(textposition='outside', textinfo='percent',\n",
    "                  textfont_size=20, showlegend=True,\n",
    "                  insidetextorientation='horizontal')\n",
    "        \n",
    "        fig.update_layout(title_x=0.5,\n",
    "                        legend=dict(\n",
    "                        orientation=\"h\",\n",
    "                        yanchor=\"bottom\",\n",
    "                        y= -0.3,\n",
    "                        xanchor=\"center\",\n",
    "                        x=0.5\n",
    "                    ))\n",
    "        return fig"
   ]
  },
  {
   "cell_type": "code",
   "execution_count": 10,
   "metadata": {},
   "outputs": [],
   "source": [
    "def fig_world_trend(cntry='Canada',window=3):\n",
    "    df = process_data(data=covid_conf_ts,cntry=cntry,window=window)\n",
    "    df.head(10)\n",
    "    if window==1:\n",
    "        yaxis_title = \"Daily Cases\"\n",
    "    else:\n",
    "        yaxis_title = \"Daily Cases ({}-day MA)\".format(window)\n",
    "    fig = px.line(df, y='Total', x=df.index, title='Daily confirmed cases trend for {}'.format(cntry),color_discrete_sequence =['#FFC34D'])\n",
    "    fig.update_layout(title_x=0.5,xaxis_title=\" \",plot_bgcolor='#ffffff', yaxis_title=yaxis_title)\n",
    "    return fig"
   ]
  },
  {
   "cell_type": "code",
   "execution_count": 11,
   "metadata": {},
   "outputs": [],
   "source": [
    "external_stylesheets = [dbc.themes.BOOTSTRAP]"
   ]
  },
  {
   "cell_type": "code",
   "execution_count": 12,
   "metadata": {},
   "outputs": [],
   "source": [
    "app = dash.Dash(__name__, external_stylesheets=external_stylesheets)\n",
    "app.title = 'Covid-19 Tracker'\n",
    "server=app.server"
   ]
  },
  {
   "cell_type": "code",
   "execution_count": 13,
   "metadata": {},
   "outputs": [],
   "source": [
    "\n",
    "def get_country_list():\n",
    "    return covid_conf_ts['Country/Region'].unique()\n",
    "\n",
    "def create_dropdown_list(cntry_list):\n",
    "    dropdown_list = []\n",
    "    for cntry in sorted(cntry_list):\n",
    "        tmp_dict = {'label':cntry,'value':cntry}\n",
    "        dropdown_list.append(tmp_dict)\n",
    "    return dropdown_list\n",
    "\n",
    "def get_country_dropdown(id):\n",
    "\n",
    "    return  dbc.Form(\n",
    "    [\n",
    "        dbc.FormGroup(\n",
    "            [\n",
    "                dbc.Label(\"Select a country\", className=\"mr-2\",style={'color':'#ffffff'}),\n",
    "                 dcc.Dropdown(id='my-id'+str(id),\n",
    "                            options=create_dropdown_list(get_country_list()),\n",
    "                            value='Canada',\n",
    "                            clearable=False,\n",
    "                            style={'width':'170px'}\n",
    "                        ),\n",
    "            ],\n",
    "            className=\"mr-3\",\n",
    "        ),\n",
    "        html.Div(id='my-div'+str(id))\n",
    "    ],\n",
    "         inline=True\n",
    "    )"
   ]
  },
  {
   "cell_type": "code",
   "execution_count": 14,
   "metadata": {},
   "outputs": [],
   "source": [
    "def graph1():\n",
    "    return dcc.Graph(id='graph1',figure=fig_world_trend('Canada'),style={'height': '70vh'})"
   ]
  },
  {
   "cell_type": "code",
   "execution_count": 15,
   "metadata": {},
   "outputs": [],
   "source": [
    "def graph2():\n",
    "    return dcc.Graph(id='graph2',figure=doughnut_fig('Canada'),style={'height': '70vh'})"
   ]
  },
  {
   "cell_type": "code",
   "execution_count": 16,
   "metadata": {},
   "outputs": [],
   "source": [
    "def get_slider():\n",
    "    return html.Div([  \n",
    "                        dcc.Slider(\n",
    "                            id='my-slider',\n",
    "                            min=1,\n",
    "                            max=15,\n",
    "                            step=None,\n",
    "                            marks={\n",
    "                                1: '1',\n",
    "                                3: '3',\n",
    "                                5: '5',\n",
    "                                7: '1-Week',\n",
    "                                14: 'Fortnight'\n",
    "                            },\n",
    "                            value=3,\n",
    "                        ),\n",
    "                        html.Div([html.Label('Select Moving Average Window')],id='my-div'+str(id),style={'textAlign':'center'})\n",
    "                    ])"
   ]
  },
  {
   "cell_type": "code",
   "execution_count": 17,
   "metadata": {},
   "outputs": [],
   "source": [
    "def generate_layout():\n",
    "    layout = dbc.Container(\n",
    "        [\n",
    "\n",
    "                    dbc.Row(\n",
    "                        [\n",
    "                            dbc.Col(html.H3(\"Covid Tracker\"), width=4,\n",
    "                                    style={'color': '#ffffff',\"height\": \"100%\"}),\n",
    "                            dbc.Col(get_country_dropdown(\n",
    "                                id=1), width={'size': 4},style={'height':'100%'})\n",
    "\n",
    "                        ],\n",
    "                        justify=\"between\",\n",
    "                        style={'border': '2px solid black',\n",
    "                       'background-color': '#2a3f54'},\n",
    "                       # className=\"h-20\",\n",
    "\n",
    "                    ),\n",
    "            dbc.Row(\n",
    "            [\n",
    "                dbc.Col(html.Div('Worldwide Confirmed Cases: ' + str(conf_overall_total)),lg=3,sm=6,\n",
    "                        style={\"height\": \"100%\",'border-right':'1px solid','border-bottom':'1px solid','background':'#FFC34D'}),\n",
    "                 dbc.Col(html.Div(\n",
    "                     'Worldwide Active Cases: ' + str(active_cntry_total)),lg=3,sm=6,\n",
    "                         style=\n",
    "                         {\"height\": \"100%\",'border-right':'1px solid','border-bottom':'1px solid','background':'#C46060'\n",
    "                         }),\n",
    "                dbc.Col(html.Div('Worldwide Recovered Cases: ' + str(recv_overall_total)),lg=3,sm=6,\n",
    "                       style={\"height\": \"100%\",'border-right':'1px solid','border-bottom':'1px solid','background':'#8CC466'}),\n",
    "                dbc.Col(html.Div('Worldwide Death Cases: ' + str(dead_overall_total)),lg=3,sm=6,\n",
    "                        style={\"height\": \"100%\",'border-bottom':'1px solid','background':'#A9ADC4'}),\n",
    "            ],\n",
    "                style={'margin-left':0,'text-align':'center'},\n",
    "               # className=\"h-30\",\n",
    "            ),\n",
    "            dbc.Row(\n",
    "                [\n",
    "                   \n",
    "                   dbc.Col(graph2(),lg=6,sm=12,style={'border-right':'1px solid black'}), \n",
    "                   dbc.Col([graph1(),\n",
    "                            dbc.Col(get_slider())\n",
    "                           ],lg=6,sm=12),\n",
    "                ],\n",
    "               # justify=\"between\",\n",
    "                style={'margin-left':0},\n",
    "                #className=\"h-30\",\n",
    "            ),\n",
    "            dbc.Row([\n",
    "                dbc.Col(\n",
    "                    html.P(\"Visualization by Plotly\"),\n",
    "                     style={'margin-left':0,'background':'#DCDCDC','text-align':'end','padding-right':'35px','padding-top':'15px'}\n",
    "                )],\n",
    "                   style={'margin-left':0},\n",
    "                  # className=\"h-20\"\n",
    "            ),\n",
    "            \n",
    "        ], fluid=True, style={'padding':'0','margin':'0','overflow':'hidden'}\n",
    "    )\n",
    "    return layout\n"
   ]
  },
  {
   "cell_type": "code",
   "execution_count": 18,
   "metadata": {},
   "outputs": [],
   "source": [
    "app.layout = generate_layout()"
   ]
  },
  {
   "cell_type": "code",
   "execution_count": 19,
   "metadata": {},
   "outputs": [],
   "source": [
    "@app.callback(\n",
    "    [Output(component_id='graph1',component_property='figure'), #line chart\n",
    "    Output(component_id='graph2',component_property='figure')], #doughnut chart\n",
    "    [Input(component_id='my-id1',component_property='value'), #dropdown\n",
    "     Input(component_id='my-slider',component_property='value')] #slider\n",
    ")\n",
    "def update_output_div(input_value1,input_value2):\n",
    "    return fig_world_trend(input_value1,input_value2),doughnut_fig(input_value1)\n",
    "#     return fig_world_trend(input_value1,input_value2)"
   ]
  },
  {
   "cell_type": "code",
   "execution_count": null,
   "metadata": {},
   "outputs": [
    {
     "name": "stdout",
     "output_type": "stream",
     "text": [
      "Dash is running on http://127.0.0.1:8050/\n",
      "\n",
      " * Serving Flask app \"__main__\" (lazy loading)\n",
      " * Environment: production\n",
      "   WARNING: This is a development server. Do not use it in a production deployment.\n",
      "   Use a production WSGI server instead.\n",
      " * Debug mode: off\n"
     ]
    },
    {
     "name": "stderr",
     "output_type": "stream",
     "text": [
      " * Running on http://127.0.0.1:8050/ (Press CTRL+C to quit)\n",
      "127.0.0.1 - - [28/Dec/2020 18:35:44] \"\u001b[37mGET / HTTP/1.1\u001b[0m\" 200 -\n",
      "127.0.0.1 - - [28/Dec/2020 18:35:44] \"\u001b[37mGET /_dash-component-suites/dash_core_components/dash_core_components.min.js.map HTTP/1.1\u001b[0m\" 200 -\n",
      "127.0.0.1 - - [28/Dec/2020 18:35:44] \"\u001b[37mGET /_dash-layout HTTP/1.1\u001b[0m\" 200 -\n",
      "127.0.0.1 - - [28/Dec/2020 18:35:44] \"\u001b[37mGET /_dash-dependencies HTTP/1.1\u001b[0m\" 200 -\n",
      "127.0.0.1 - - [28/Dec/2020 18:35:44] \"\u001b[37mGET /_favicon.ico?v=1.18.1 HTTP/1.1\u001b[0m\" 200 -\n",
      "127.0.0.1 - - [28/Dec/2020 18:35:44] \"\u001b[37mGET /_dash-component-suites/dash_core_components/dash_core_components-shared.js.map HTTP/1.1\u001b[0m\" 200 -\n",
      "127.0.0.1 - - [28/Dec/2020 18:35:44] \"\u001b[37mPOST /_dash-update-component HTTP/1.1\u001b[0m\" 200 -\n",
      "127.0.0.1 - - [28/Dec/2020 18:35:44] \"\u001b[37mGET /_dash-component-suites/dash_html_components/dash_html_components.min.js.map HTTP/1.1\u001b[0m\" 200 -\n",
      "127.0.0.1 - - [28/Dec/2020 18:35:44] \"\u001b[37mGET /_dash-component-suites/dash_core_components/async-graph.js.map HTTP/1.1\u001b[0m\" 200 -\n",
      "127.0.0.1 - - [28/Dec/2020 18:35:44] \"\u001b[37mGET /_dash-component-suites/dash_core_components/async-dropdown.js.map HTTP/1.1\u001b[0m\" 200 -\n",
      "127.0.0.1 - - [28/Dec/2020 18:35:44] \"\u001b[37mGET /_dash-component-suites/dash_core_components/async-slider.js.map HTTP/1.1\u001b[0m\" 200 -\n",
      "127.0.0.1 - - [28/Dec/2020 18:35:57] \"\u001b[37mGET /_dash-component-suites/dash_core_components/dash_core_components-shared.js.map HTTP/1.1\u001b[0m\" 200 -\n",
      "127.0.0.1 - - [28/Dec/2020 18:35:57] \"\u001b[37mGET /_dash-component-suites/dash_core_components/async-graph.js.map HTTP/1.1\u001b[0m\" 200 -\n",
      "127.0.0.1 - - [28/Dec/2020 18:35:57] \"\u001b[37mGET /_dash-component-suites/dash_core_components/async-dropdown.js.map HTTP/1.1\u001b[0m\" 200 -\n",
      "127.0.0.1 - - [28/Dec/2020 18:35:57] \"\u001b[37mGET /_dash-component-suites/dash_core_components/async-slider.js.map HTTP/1.1\u001b[0m\" 200 -\n",
      "127.0.0.1 - - [28/Dec/2020 18:35:57] \"\u001b[37mGET /_dash-component-suites/dash_html_components/dash_html_components.min.js.map HTTP/1.1\u001b[0m\" 200 -\n",
      "127.0.0.1 - - [28/Dec/2020 18:35:57] \"\u001b[37mGET /_dash-component-suites/dash_core_components/dash_core_components.min.js.map HTTP/1.1\u001b[0m\" 200 -\n"
     ]
    }
   ],
   "source": [
    "app.run_server(host= '127.0.0.1',debug=False)"
   ]
  },
  {
   "cell_type": "code",
   "execution_count": null,
   "metadata": {},
   "outputs": [],
   "source": []
  }
 ],
 "metadata": {
  "kernelspec": {
   "display_name": "Python 3",
   "language": "python",
   "name": "python3"
  },
  "language_info": {
   "codemirror_mode": {
    "name": "ipython",
    "version": 3
   },
   "file_extension": ".py",
   "mimetype": "text/x-python",
   "name": "python",
   "nbconvert_exporter": "python",
   "pygments_lexer": "ipython3",
   "version": "3.8.5"
  }
 },
 "nbformat": 4,
 "nbformat_minor": 4
}
